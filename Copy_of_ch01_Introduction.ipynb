{
  "nbformat": 4,
  "nbformat_minor": 0,
  "metadata": {
    "anaconda-cloud": {},
    "kernelspec": {
      "display_name": "Python 3",
      "language": "python",
      "name": "python3"
    },
    "language_info": {
      "codemirror_mode": {
        "name": "ipython",
        "version": 3
      },
      "file_extension": ".py",
      "mimetype": "text/x-python",
      "name": "python",
      "nbconvert_exporter": "python",
      "pygments_lexer": "ipython3",
      "version": "3.7.3"
    },
    "colab": {
      "name": "Copy of ch01_Introduction.ipynb",
      "provenance": [],
      "include_colab_link": true
    }
  },
  "cells": [
    {
      "cell_type": "markdown",
      "metadata": {
        "id": "view-in-github",
        "colab_type": "text"
      },
      "source": [
        "<a href=\"https://colab.research.google.com/github/ckandel44/PRML/blob/master/Copy_of_ch01_Introduction.ipynb\" target=\"_parent\"><img src=\"https://colab.research.google.com/assets/colab-badge.svg\" alt=\"Open In Colab\"/></a>"
      ]
    },
    {
      "cell_type": "markdown",
      "metadata": {
        "id": "ceRmVgOq6XmY"
      },
      "source": [
        "# 1. Introduction"
      ]
    },
    {
      "cell_type": "markdown",
      "metadata": {
        "id": "Wj_RTULpriir"
      },
      "source": [
        "<table class=\"tfo-notebook-buttons\" align=\"left\">\n",
        "  \n",
        "  <td>\n",
        "    <a target=\"_blank\" href=\"https://colab.research.google.com/github/pantelis/PRML/blob/master/notebooks/ch01_Introduction.ipynb\"><img src=\"https://www.tensorflow.org/images/colab_logo_32px.png\" />Run in Google Colab</a>\n",
        "  </td>\n",
        "</table>"
      ]
    },
    {
      "cell_type": "code",
      "metadata": {
        "id": "TMxmVuag7eyA",
        "colab": {
          "base_uri": "https://localhost:8080/"
        },
        "outputId": "fabd3f36-4c8e-45db-b8a3-113799104cf1"
      },
      "source": [
        "from google.colab import drive\n",
        "drive.mount('/content/drive')"
      ],
      "execution_count": null,
      "outputs": [
        {
          "output_type": "stream",
          "text": [
            "Mounted at /content/drive\n"
          ],
          "name": "stdout"
        }
      ]
    },
    {
      "cell_type": "code",
      "metadata": {
        "id": "F3rYRMAD6ynO",
        "colab": {
          "base_uri": "https://localhost:8080/"
        },
        "outputId": "78a6784a-3eb3-497d-d1b1-b52784d9a3e4"
      },
      "source": [
        "# You need to adjust the directory names below for your own account\n",
        "# e.g. you may elect to create ms-notebooks dir or not\n",
        "\n",
        "# Execute this cell once\n",
        "\n",
        "# 1. Download the repo and set it as the current directory\n",
        "%cd /content/drive/MyDrive/Colab \n",
        "!git clone https://github.com/pantelis/PRML\n",
        "%cd /content/drive/MyDrive/Colab/PRML\n",
        "\n",
        "# 2. install the project/module\n",
        "!python setup.py install\n",
        "\n"
      ],
      "execution_count": null,
      "outputs": [
        {
          "output_type": "stream",
          "text": [
            "/content/drive/MyDrive/Colab\n",
            "fatal: destination path 'PRML' already exists and is not an empty directory.\n",
            "/content/drive/MyDrive/Colab/PRML\n",
            "running install\n",
            "running bdist_egg\n",
            "running egg_info\n",
            "writing prml.egg-info/PKG-INFO\n",
            "writing dependency_links to prml.egg-info/dependency_links.txt\n",
            "writing requirements to prml.egg-info/requires.txt\n",
            "writing top-level names to prml.egg-info/top_level.txt\n",
            "writing manifest file 'prml.egg-info/SOURCES.txt'\n",
            "installing library code to build/bdist.linux-x86_64/egg\n",
            "running install_lib\n",
            "running build_py\n",
            "creating build/bdist.linux-x86_64/egg\n",
            "creating build/bdist.linux-x86_64/egg/prml\n",
            "copying build/lib/prml/__init__.py -> build/bdist.linux-x86_64/egg/prml\n",
            "creating build/bdist.linux-x86_64/egg/prml/bayesnet\n",
            "copying build/lib/prml/bayesnet/discrete.py -> build/bdist.linux-x86_64/egg/prml/bayesnet\n",
            "copying build/lib/prml/bayesnet/probability_function.py -> build/bdist.linux-x86_64/egg/prml/bayesnet\n",
            "copying build/lib/prml/bayesnet/random_variable.py -> build/bdist.linux-x86_64/egg/prml/bayesnet\n",
            "copying build/lib/prml/bayesnet/__init__.py -> build/bdist.linux-x86_64/egg/prml/bayesnet\n",
            "creating build/bdist.linux-x86_64/egg/prml/clustering\n",
            "copying build/lib/prml/clustering/__init__.py -> build/bdist.linux-x86_64/egg/prml/clustering\n",
            "copying build/lib/prml/clustering/k_means.py -> build/bdist.linux-x86_64/egg/prml/clustering\n",
            "creating build/bdist.linux-x86_64/egg/prml/dimreduction\n",
            "copying build/lib/prml/dimreduction/pca.py -> build/bdist.linux-x86_64/egg/prml/dimreduction\n",
            "copying build/lib/prml/dimreduction/__init__.py -> build/bdist.linux-x86_64/egg/prml/dimreduction\n",
            "copying build/lib/prml/dimreduction/bayesian_pca.py -> build/bdist.linux-x86_64/egg/prml/dimreduction\n",
            "copying build/lib/prml/dimreduction/autoencoder.py -> build/bdist.linux-x86_64/egg/prml/dimreduction\n",
            "creating build/bdist.linux-x86_64/egg/prml/kernel\n",
            "copying build/lib/prml/kernel/gaussian_process_classifier.py -> build/bdist.linux-x86_64/egg/prml/kernel\n",
            "copying build/lib/prml/kernel/polynomial.py -> build/bdist.linux-x86_64/egg/prml/kernel\n",
            "copying build/lib/prml/kernel/rbf.py -> build/bdist.linux-x86_64/egg/prml/kernel\n",
            "copying build/lib/prml/kernel/kernel.py -> build/bdist.linux-x86_64/egg/prml/kernel\n",
            "copying build/lib/prml/kernel/relevance_vector_regressor.py -> build/bdist.linux-x86_64/egg/prml/kernel\n",
            "copying build/lib/prml/kernel/gaussian_process_regressor.py -> build/bdist.linux-x86_64/egg/prml/kernel\n",
            "copying build/lib/prml/kernel/support_vector_classifier.py -> build/bdist.linux-x86_64/egg/prml/kernel\n",
            "copying build/lib/prml/kernel/__init__.py -> build/bdist.linux-x86_64/egg/prml/kernel\n",
            "copying build/lib/prml/kernel/relevance_vector_classifier.py -> build/bdist.linux-x86_64/egg/prml/kernel\n",
            "creating build/bdist.linux-x86_64/egg/prml/linear\n",
            "copying build/lib/prml/linear/logistic_regression.py -> build/bdist.linux-x86_64/egg/prml/linear\n",
            "copying build/lib/prml/linear/variational_linear_regression.py -> build/bdist.linux-x86_64/egg/prml/linear\n",
            "copying build/lib/prml/linear/bayesian_regression.py -> build/bdist.linux-x86_64/egg/prml/linear\n",
            "copying build/lib/prml/linear/variational_logistic_regression.py -> build/bdist.linux-x86_64/egg/prml/linear\n",
            "copying build/lib/prml/linear/__init__.py -> build/bdist.linux-x86_64/egg/prml/linear\n",
            "copying build/lib/prml/linear/emprical_bayes_regression.py -> build/bdist.linux-x86_64/egg/prml/linear\n",
            "copying build/lib/prml/linear/fishers_linear_discriminant.py -> build/bdist.linux-x86_64/egg/prml/linear\n",
            "copying build/lib/prml/linear/perceptron.py -> build/bdist.linux-x86_64/egg/prml/linear\n",
            "copying build/lib/prml/linear/regression.py -> build/bdist.linux-x86_64/egg/prml/linear\n",
            "copying build/lib/prml/linear/softmax_regression.py -> build/bdist.linux-x86_64/egg/prml/linear\n",
            "copying build/lib/prml/linear/linear_regression.py -> build/bdist.linux-x86_64/egg/prml/linear\n",
            "copying build/lib/prml/linear/least_squares_classifier.py -> build/bdist.linux-x86_64/egg/prml/linear\n",
            "copying build/lib/prml/linear/classifier.py -> build/bdist.linux-x86_64/egg/prml/linear\n",
            "copying build/lib/prml/linear/ridge_regression.py -> build/bdist.linux-x86_64/egg/prml/linear\n",
            "copying build/lib/prml/linear/bayesian_logistic_regression.py -> build/bdist.linux-x86_64/egg/prml/linear\n",
            "creating build/bdist.linux-x86_64/egg/prml/markov\n",
            "copying build/lib/prml/markov/__init__.py -> build/bdist.linux-x86_64/egg/prml/markov\n",
            "copying build/lib/prml/markov/hmm.py -> build/bdist.linux-x86_64/egg/prml/markov\n",
            "copying build/lib/prml/markov/kalman.py -> build/bdist.linux-x86_64/egg/prml/markov\n",
            "copying build/lib/prml/markov/state_space_model.py -> build/bdist.linux-x86_64/egg/prml/markov\n",
            "copying build/lib/prml/markov/particle.py -> build/bdist.linux-x86_64/egg/prml/markov\n",
            "copying build/lib/prml/markov/categorical_hmm.py -> build/bdist.linux-x86_64/egg/prml/markov\n",
            "copying build/lib/prml/markov/gaussian_hmm.py -> build/bdist.linux-x86_64/egg/prml/markov\n",
            "creating build/bdist.linux-x86_64/egg/prml/nn\n",
            "copying build/lib/prml/nn/network.py -> build/bdist.linux-x86_64/egg/prml/nn\n",
            "copying build/lib/prml/nn/config.py -> build/bdist.linux-x86_64/egg/prml/nn\n",
            "copying build/lib/prml/nn/queue.py -> build/bdist.linux-x86_64/egg/prml/nn\n",
            "copying build/lib/prml/nn/__init__.py -> build/bdist.linux-x86_64/egg/prml/nn\n",
            "copying build/lib/prml/nn/function.py -> build/bdist.linux-x86_64/egg/prml/nn\n",
            "creating build/bdist.linux-x86_64/egg/prml/nn/array\n",
            "copying build/lib/prml/nn/array/__init__.py -> build/bdist.linux-x86_64/egg/prml/nn/array\n",
            "copying build/lib/prml/nn/array/reshape.py -> build/bdist.linux-x86_64/egg/prml/nn/array\n",
            "copying build/lib/prml/nn/array/array.py -> build/bdist.linux-x86_64/egg/prml/nn/array\n",
            "copying build/lib/prml/nn/array/zeros.py -> build/bdist.linux-x86_64/egg/prml/nn/array\n",
            "copying build/lib/prml/nn/array/broadcast.py -> build/bdist.linux-x86_64/egg/prml/nn/array\n",
            "copying build/lib/prml/nn/array/ones.py -> build/bdist.linux-x86_64/egg/prml/nn/array\n",
            "creating build/bdist.linux-x86_64/egg/prml/nn/distribution\n",
            "copying build/lib/prml/nn/distribution/__init__.py -> build/bdist.linux-x86_64/egg/prml/nn/distribution\n",
            "copying build/lib/prml/nn/distribution/bernoulli.py -> build/bdist.linux-x86_64/egg/prml/nn/distribution\n",
            "copying build/lib/prml/nn/distribution/distribution.py -> build/bdist.linux-x86_64/egg/prml/nn/distribution\n",
            "copying build/lib/prml/nn/distribution/gaussian.py -> build/bdist.linux-x86_64/egg/prml/nn/distribution\n",
            "copying build/lib/prml/nn/distribution/categorical.py -> build/bdist.linux-x86_64/egg/prml/nn/distribution\n",
            "creating build/bdist.linux-x86_64/egg/prml/nn/image\n",
            "copying build/lib/prml/nn/image/convolve2d.py -> build/bdist.linux-x86_64/egg/prml/nn/image\n",
            "copying build/lib/prml/nn/image/__init__.py -> build/bdist.linux-x86_64/egg/prml/nn/image\n",
            "copying build/lib/prml/nn/image/deconvolve2d.py -> build/bdist.linux-x86_64/egg/prml/nn/image\n",
            "copying build/lib/prml/nn/image/util.py -> build/bdist.linux-x86_64/egg/prml/nn/image\n",
            "copying build/lib/prml/nn/image/max_pooling2d.py -> build/bdist.linux-x86_64/egg/prml/nn/image\n",
            "creating build/bdist.linux-x86_64/egg/prml/nn/io\n",
            "copying build/lib/prml/nn/io/__init__.py -> build/bdist.linux-x86_64/egg/prml/nn/io\n",
            "copying build/lib/prml/nn/io/io.py -> build/bdist.linux-x86_64/egg/prml/nn/io\n",
            "creating build/bdist.linux-x86_64/egg/prml/nn/loss\n",
            "copying build/lib/prml/nn/loss/__init__.py -> build/bdist.linux-x86_64/egg/prml/nn/loss\n",
            "copying build/lib/prml/nn/loss/kl.py -> build/bdist.linux-x86_64/egg/prml/nn/loss\n",
            "copying build/lib/prml/nn/loss/sigmoid_cross_entropy.py -> build/bdist.linux-x86_64/egg/prml/nn/loss\n",
            "copying build/lib/prml/nn/loss/softmax_cross_entropy.py -> build/bdist.linux-x86_64/egg/prml/nn/loss\n",
            "creating build/bdist.linux-x86_64/egg/prml/nn/math\n",
            "copying build/lib/prml/nn/math/sqrt.py -> build/bdist.linux-x86_64/egg/prml/nn/math\n",
            "copying build/lib/prml/nn/math/square.py -> build/bdist.linux-x86_64/egg/prml/nn/math\n",
            "copying build/lib/prml/nn/math/subtract.py -> build/bdist.linux-x86_64/egg/prml/nn/math\n",
            "copying build/lib/prml/nn/math/exp.py -> build/bdist.linux-x86_64/egg/prml/nn/math\n",
            "copying build/lib/prml/nn/math/log.py -> build/bdist.linux-x86_64/egg/prml/nn/math\n",
            "copying build/lib/prml/nn/math/power.py -> build/bdist.linux-x86_64/egg/prml/nn/math\n",
            "copying build/lib/prml/nn/math/product.py -> build/bdist.linux-x86_64/egg/prml/nn/math\n",
            "copying build/lib/prml/nn/math/matmul.py -> build/bdist.linux-x86_64/egg/prml/nn/math\n",
            "copying build/lib/prml/nn/math/sum.py -> build/bdist.linux-x86_64/egg/prml/nn/math\n",
            "copying build/lib/prml/nn/math/divide.py -> build/bdist.linux-x86_64/egg/prml/nn/math\n",
            "copying build/lib/prml/nn/math/mean.py -> build/bdist.linux-x86_64/egg/prml/nn/math\n",
            "copying build/lib/prml/nn/math/add.py -> build/bdist.linux-x86_64/egg/prml/nn/math\n",
            "copying build/lib/prml/nn/math/multiply.py -> build/bdist.linux-x86_64/egg/prml/nn/math\n",
            "copying build/lib/prml/nn/math/__init__.py -> build/bdist.linux-x86_64/egg/prml/nn/math\n",
            "copying build/lib/prml/nn/math/negative.py -> build/bdist.linux-x86_64/egg/prml/nn/math\n",
            "creating build/bdist.linux-x86_64/egg/prml/nn/nonlinear\n",
            "copying build/lib/prml/nn/nonlinear/relu.py -> build/bdist.linux-x86_64/egg/prml/nn/nonlinear\n",
            "copying build/lib/prml/nn/nonlinear/softplus.py -> build/bdist.linux-x86_64/egg/prml/nn/nonlinear\n",
            "copying build/lib/prml/nn/nonlinear/logit.py -> build/bdist.linux-x86_64/egg/prml/nn/nonlinear\n",
            "copying build/lib/prml/nn/nonlinear/log_softmax.py -> build/bdist.linux-x86_64/egg/prml/nn/nonlinear\n",
            "copying build/lib/prml/nn/nonlinear/__init__.py -> build/bdist.linux-x86_64/egg/prml/nn/nonlinear\n",
            "copying build/lib/prml/nn/nonlinear/tanh.py -> build/bdist.linux-x86_64/egg/prml/nn/nonlinear\n",
            "copying build/lib/prml/nn/nonlinear/sigmoid.py -> build/bdist.linux-x86_64/egg/prml/nn/nonlinear\n",
            "copying build/lib/prml/nn/nonlinear/softmax.py -> build/bdist.linux-x86_64/egg/prml/nn/nonlinear\n",
            "creating build/bdist.linux-x86_64/egg/prml/nn/normalization\n",
            "copying build/lib/prml/nn/normalization/__init__.py -> build/bdist.linux-x86_64/egg/prml/nn/normalization\n",
            "copying build/lib/prml/nn/normalization/batch_normalization.py -> build/bdist.linux-x86_64/egg/prml/nn/normalization\n",
            "creating build/bdist.linux-x86_64/egg/prml/nn/optimizer\n",
            "copying build/lib/prml/nn/optimizer/gradient.py -> build/bdist.linux-x86_64/egg/prml/nn/optimizer\n",
            "copying build/lib/prml/nn/optimizer/__init__.py -> build/bdist.linux-x86_64/egg/prml/nn/optimizer\n",
            "copying build/lib/prml/nn/optimizer/momentum.py -> build/bdist.linux-x86_64/egg/prml/nn/optimizer\n",
            "copying build/lib/prml/nn/optimizer/optimizer.py -> build/bdist.linux-x86_64/egg/prml/nn/optimizer\n",
            "copying build/lib/prml/nn/optimizer/ada_delta.py -> build/bdist.linux-x86_64/egg/prml/nn/optimizer\n",
            "copying build/lib/prml/nn/optimizer/ada_grad.py -> build/bdist.linux-x86_64/egg/prml/nn/optimizer\n",
            "copying build/lib/prml/nn/optimizer/adam.py -> build/bdist.linux-x86_64/egg/prml/nn/optimizer\n",
            "copying build/lib/prml/nn/optimizer/rmsprop.py -> build/bdist.linux-x86_64/egg/prml/nn/optimizer\n",
            "creating build/bdist.linux-x86_64/egg/prml/nn/random\n",
            "copying build/lib/prml/nn/random/random.py -> build/bdist.linux-x86_64/egg/prml/nn/random\n",
            "copying build/lib/prml/nn/random/__init__.py -> build/bdist.linux-x86_64/egg/prml/nn/random\n",
            "copying build/lib/prml/nn/random/dropout.py -> build/bdist.linux-x86_64/egg/prml/nn/random\n",
            "copying build/lib/prml/nn/random/uniform.py -> build/bdist.linux-x86_64/egg/prml/nn/random\n",
            "copying build/lib/prml/nn/random/normal.py -> build/bdist.linux-x86_64/egg/prml/nn/random\n",
            "creating build/bdist.linux-x86_64/egg/prml/preprocess\n",
            "copying build/lib/prml/preprocess/label_transformer.py -> build/bdist.linux-x86_64/egg/prml/preprocess\n",
            "copying build/lib/prml/preprocess/__init__.py -> build/bdist.linux-x86_64/egg/prml/preprocess\n",
            "copying build/lib/prml/preprocess/gaussian.py -> build/bdist.linux-x86_64/egg/prml/preprocess\n",
            "copying build/lib/prml/preprocess/sigmoidal.py -> build/bdist.linux-x86_64/egg/prml/preprocess\n",
            "copying build/lib/prml/preprocess/polynomial.py -> build/bdist.linux-x86_64/egg/prml/preprocess\n",
            "creating build/bdist.linux-x86_64/egg/prml/rv\n",
            "copying build/lib/prml/rv/categorical.py -> build/bdist.linux-x86_64/egg/prml/rv\n",
            "copying build/lib/prml/rv/variational_gaussian_mixture.py -> build/bdist.linux-x86_64/egg/prml/rv\n",
            "copying build/lib/prml/rv/gaussian.py -> build/bdist.linux-x86_64/egg/prml/rv\n",
            "copying build/lib/prml/rv/multivariate_gaussian.py -> build/bdist.linux-x86_64/egg/prml/rv\n",
            "copying build/lib/prml/rv/__init__.py -> build/bdist.linux-x86_64/egg/prml/rv\n",
            "copying build/lib/prml/rv/bernoulli.py -> build/bdist.linux-x86_64/egg/prml/rv\n",
            "copying build/lib/prml/rv/uniform.py -> build/bdist.linux-x86_64/egg/prml/rv\n",
            "copying build/lib/prml/rv/bernoulli_mixture.py -> build/bdist.linux-x86_64/egg/prml/rv\n",
            "copying build/lib/prml/rv/multivariate_gaussian_mixture.py -> build/bdist.linux-x86_64/egg/prml/rv\n",
            "copying build/lib/prml/rv/gamma.py -> build/bdist.linux-x86_64/egg/prml/rv\n",
            "copying build/lib/prml/rv/students_t.py -> build/bdist.linux-x86_64/egg/prml/rv\n",
            "copying build/lib/prml/rv/rv.py -> build/bdist.linux-x86_64/egg/prml/rv\n",
            "copying build/lib/prml/rv/dirichlet.py -> build/bdist.linux-x86_64/egg/prml/rv\n",
            "copying build/lib/prml/rv/beta.py -> build/bdist.linux-x86_64/egg/prml/rv\n",
            "creating build/bdist.linux-x86_64/egg/prml/sampling\n",
            "copying build/lib/prml/sampling/__init__.py -> build/bdist.linux-x86_64/egg/prml/sampling\n",
            "copying build/lib/prml/sampling/metropolis.py -> build/bdist.linux-x86_64/egg/prml/sampling\n",
            "copying build/lib/prml/sampling/sir.py -> build/bdist.linux-x86_64/egg/prml/sampling\n",
            "copying build/lib/prml/sampling/rejection_sampling.py -> build/bdist.linux-x86_64/egg/prml/sampling\n",
            "copying build/lib/prml/sampling/metropolis_hastings.py -> build/bdist.linux-x86_64/egg/prml/sampling\n",
            "byte-compiling build/bdist.linux-x86_64/egg/prml/__init__.py to __init__.cpython-36.pyc\n",
            "byte-compiling build/bdist.linux-x86_64/egg/prml/bayesnet/discrete.py to discrete.cpython-36.pyc\n",
            "byte-compiling build/bdist.linux-x86_64/egg/prml/bayesnet/probability_function.py to probability_function.cpython-36.pyc\n",
            "byte-compiling build/bdist.linux-x86_64/egg/prml/bayesnet/random_variable.py to random_variable.cpython-36.pyc\n",
            "byte-compiling build/bdist.linux-x86_64/egg/prml/bayesnet/__init__.py to __init__.cpython-36.pyc\n",
            "byte-compiling build/bdist.linux-x86_64/egg/prml/clustering/__init__.py to __init__.cpython-36.pyc\n",
            "byte-compiling build/bdist.linux-x86_64/egg/prml/clustering/k_means.py to k_means.cpython-36.pyc\n",
            "byte-compiling build/bdist.linux-x86_64/egg/prml/dimreduction/pca.py to pca.cpython-36.pyc\n",
            "byte-compiling build/bdist.linux-x86_64/egg/prml/dimreduction/__init__.py to __init__.cpython-36.pyc\n",
            "byte-compiling build/bdist.linux-x86_64/egg/prml/dimreduction/bayesian_pca.py to bayesian_pca.cpython-36.pyc\n",
            "byte-compiling build/bdist.linux-x86_64/egg/prml/dimreduction/autoencoder.py to autoencoder.cpython-36.pyc\n",
            "byte-compiling build/bdist.linux-x86_64/egg/prml/kernel/gaussian_process_classifier.py to gaussian_process_classifier.cpython-36.pyc\n",
            "byte-compiling build/bdist.linux-x86_64/egg/prml/kernel/polynomial.py to polynomial.cpython-36.pyc\n",
            "byte-compiling build/bdist.linux-x86_64/egg/prml/kernel/rbf.py to rbf.cpython-36.pyc\n",
            "byte-compiling build/bdist.linux-x86_64/egg/prml/kernel/kernel.py to kernel.cpython-36.pyc\n",
            "byte-compiling build/bdist.linux-x86_64/egg/prml/kernel/relevance_vector_regressor.py to relevance_vector_regressor.cpython-36.pyc\n",
            "byte-compiling build/bdist.linux-x86_64/egg/prml/kernel/gaussian_process_regressor.py to gaussian_process_regressor.cpython-36.pyc\n",
            "byte-compiling build/bdist.linux-x86_64/egg/prml/kernel/support_vector_classifier.py to support_vector_classifier.cpython-36.pyc\n",
            "byte-compiling build/bdist.linux-x86_64/egg/prml/kernel/__init__.py to __init__.cpython-36.pyc\n",
            "byte-compiling build/bdist.linux-x86_64/egg/prml/kernel/relevance_vector_classifier.py to relevance_vector_classifier.cpython-36.pyc\n",
            "byte-compiling build/bdist.linux-x86_64/egg/prml/linear/logistic_regression.py to logistic_regression.cpython-36.pyc\n",
            "byte-compiling build/bdist.linux-x86_64/egg/prml/linear/variational_linear_regression.py to variational_linear_regression.cpython-36.pyc\n",
            "byte-compiling build/bdist.linux-x86_64/egg/prml/linear/bayesian_regression.py to bayesian_regression.cpython-36.pyc\n",
            "byte-compiling build/bdist.linux-x86_64/egg/prml/linear/variational_logistic_regression.py to variational_logistic_regression.cpython-36.pyc\n",
            "byte-compiling build/bdist.linux-x86_64/egg/prml/linear/__init__.py to __init__.cpython-36.pyc\n",
            "byte-compiling build/bdist.linux-x86_64/egg/prml/linear/emprical_bayes_regression.py to emprical_bayes_regression.cpython-36.pyc\n",
            "byte-compiling build/bdist.linux-x86_64/egg/prml/linear/fishers_linear_discriminant.py to fishers_linear_discriminant.cpython-36.pyc\n",
            "byte-compiling build/bdist.linux-x86_64/egg/prml/linear/perceptron.py to perceptron.cpython-36.pyc\n",
            "byte-compiling build/bdist.linux-x86_64/egg/prml/linear/regression.py to regression.cpython-36.pyc\n",
            "byte-compiling build/bdist.linux-x86_64/egg/prml/linear/softmax_regression.py to softmax_regression.cpython-36.pyc\n",
            "byte-compiling build/bdist.linux-x86_64/egg/prml/linear/linear_regression.py to linear_regression.cpython-36.pyc\n",
            "byte-compiling build/bdist.linux-x86_64/egg/prml/linear/least_squares_classifier.py to least_squares_classifier.cpython-36.pyc\n",
            "byte-compiling build/bdist.linux-x86_64/egg/prml/linear/classifier.py to classifier.cpython-36.pyc\n",
            "byte-compiling build/bdist.linux-x86_64/egg/prml/linear/ridge_regression.py to ridge_regression.cpython-36.pyc\n",
            "byte-compiling build/bdist.linux-x86_64/egg/prml/linear/bayesian_logistic_regression.py to bayesian_logistic_regression.cpython-36.pyc\n",
            "byte-compiling build/bdist.linux-x86_64/egg/prml/markov/__init__.py to __init__.cpython-36.pyc\n",
            "byte-compiling build/bdist.linux-x86_64/egg/prml/markov/hmm.py to hmm.cpython-36.pyc\n",
            "byte-compiling build/bdist.linux-x86_64/egg/prml/markov/kalman.py to kalman.cpython-36.pyc\n",
            "byte-compiling build/bdist.linux-x86_64/egg/prml/markov/state_space_model.py to state_space_model.cpython-36.pyc\n",
            "byte-compiling build/bdist.linux-x86_64/egg/prml/markov/particle.py to particle.cpython-36.pyc\n",
            "byte-compiling build/bdist.linux-x86_64/egg/prml/markov/categorical_hmm.py to categorical_hmm.cpython-36.pyc\n",
            "byte-compiling build/bdist.linux-x86_64/egg/prml/markov/gaussian_hmm.py to gaussian_hmm.cpython-36.pyc\n",
            "byte-compiling build/bdist.linux-x86_64/egg/prml/nn/network.py to network.cpython-36.pyc\n",
            "byte-compiling build/bdist.linux-x86_64/egg/prml/nn/config.py to config.cpython-36.pyc\n",
            "byte-compiling build/bdist.linux-x86_64/egg/prml/nn/queue.py to queue.cpython-36.pyc\n",
            "byte-compiling build/bdist.linux-x86_64/egg/prml/nn/__init__.py to __init__.cpython-36.pyc\n",
            "byte-compiling build/bdist.linux-x86_64/egg/prml/nn/function.py to function.cpython-36.pyc\n",
            "byte-compiling build/bdist.linux-x86_64/egg/prml/nn/array/__init__.py to __init__.cpython-36.pyc\n",
            "byte-compiling build/bdist.linux-x86_64/egg/prml/nn/array/reshape.py to reshape.cpython-36.pyc\n",
            "byte-compiling build/bdist.linux-x86_64/egg/prml/nn/array/array.py to array.cpython-36.pyc\n",
            "byte-compiling build/bdist.linux-x86_64/egg/prml/nn/array/zeros.py to zeros.cpython-36.pyc\n",
            "byte-compiling build/bdist.linux-x86_64/egg/prml/nn/array/broadcast.py to broadcast.cpython-36.pyc\n",
            "byte-compiling build/bdist.linux-x86_64/egg/prml/nn/array/ones.py to ones.cpython-36.pyc\n",
            "byte-compiling build/bdist.linux-x86_64/egg/prml/nn/distribution/__init__.py to __init__.cpython-36.pyc\n",
            "byte-compiling build/bdist.linux-x86_64/egg/prml/nn/distribution/bernoulli.py to bernoulli.cpython-36.pyc\n",
            "byte-compiling build/bdist.linux-x86_64/egg/prml/nn/distribution/distribution.py to distribution.cpython-36.pyc\n",
            "byte-compiling build/bdist.linux-x86_64/egg/prml/nn/distribution/gaussian.py to gaussian.cpython-36.pyc\n",
            "byte-compiling build/bdist.linux-x86_64/egg/prml/nn/distribution/categorical.py to categorical.cpython-36.pyc\n",
            "byte-compiling build/bdist.linux-x86_64/egg/prml/nn/image/convolve2d.py to convolve2d.cpython-36.pyc\n",
            "byte-compiling build/bdist.linux-x86_64/egg/prml/nn/image/__init__.py to __init__.cpython-36.pyc\n",
            "byte-compiling build/bdist.linux-x86_64/egg/prml/nn/image/deconvolve2d.py to deconvolve2d.cpython-36.pyc\n",
            "byte-compiling build/bdist.linux-x86_64/egg/prml/nn/image/util.py to util.cpython-36.pyc\n",
            "byte-compiling build/bdist.linux-x86_64/egg/prml/nn/image/max_pooling2d.py to max_pooling2d.cpython-36.pyc\n",
            "byte-compiling build/bdist.linux-x86_64/egg/prml/nn/io/__init__.py to __init__.cpython-36.pyc\n",
            "byte-compiling build/bdist.linux-x86_64/egg/prml/nn/io/io.py to io.cpython-36.pyc\n",
            "byte-compiling build/bdist.linux-x86_64/egg/prml/nn/loss/__init__.py to __init__.cpython-36.pyc\n",
            "byte-compiling build/bdist.linux-x86_64/egg/prml/nn/loss/kl.py to kl.cpython-36.pyc\n",
            "byte-compiling build/bdist.linux-x86_64/egg/prml/nn/loss/sigmoid_cross_entropy.py to sigmoid_cross_entropy.cpython-36.pyc\n",
            "byte-compiling build/bdist.linux-x86_64/egg/prml/nn/loss/softmax_cross_entropy.py to softmax_cross_entropy.cpython-36.pyc\n",
            "byte-compiling build/bdist.linux-x86_64/egg/prml/nn/math/sqrt.py to sqrt.cpython-36.pyc\n",
            "byte-compiling build/bdist.linux-x86_64/egg/prml/nn/math/square.py to square.cpython-36.pyc\n",
            "byte-compiling build/bdist.linux-x86_64/egg/prml/nn/math/subtract.py to subtract.cpython-36.pyc\n",
            "byte-compiling build/bdist.linux-x86_64/egg/prml/nn/math/exp.py to exp.cpython-36.pyc\n",
            "byte-compiling build/bdist.linux-x86_64/egg/prml/nn/math/log.py to log.cpython-36.pyc\n",
            "byte-compiling build/bdist.linux-x86_64/egg/prml/nn/math/power.py to power.cpython-36.pyc\n",
            "byte-compiling build/bdist.linux-x86_64/egg/prml/nn/math/product.py to product.cpython-36.pyc\n",
            "byte-compiling build/bdist.linux-x86_64/egg/prml/nn/math/matmul.py to matmul.cpython-36.pyc\n",
            "byte-compiling build/bdist.linux-x86_64/egg/prml/nn/math/sum.py to sum.cpython-36.pyc\n",
            "byte-compiling build/bdist.linux-x86_64/egg/prml/nn/math/divide.py to divide.cpython-36.pyc\n",
            "byte-compiling build/bdist.linux-x86_64/egg/prml/nn/math/mean.py to mean.cpython-36.pyc\n",
            "byte-compiling build/bdist.linux-x86_64/egg/prml/nn/math/add.py to add.cpython-36.pyc\n",
            "byte-compiling build/bdist.linux-x86_64/egg/prml/nn/math/multiply.py to multiply.cpython-36.pyc\n",
            "byte-compiling build/bdist.linux-x86_64/egg/prml/nn/math/__init__.py to __init__.cpython-36.pyc\n",
            "byte-compiling build/bdist.linux-x86_64/egg/prml/nn/math/negative.py to negative.cpython-36.pyc\n",
            "byte-compiling build/bdist.linux-x86_64/egg/prml/nn/nonlinear/relu.py to relu.cpython-36.pyc\n",
            "byte-compiling build/bdist.linux-x86_64/egg/prml/nn/nonlinear/softplus.py to softplus.cpython-36.pyc\n",
            "byte-compiling build/bdist.linux-x86_64/egg/prml/nn/nonlinear/logit.py to logit.cpython-36.pyc\n",
            "byte-compiling build/bdist.linux-x86_64/egg/prml/nn/nonlinear/log_softmax.py to log_softmax.cpython-36.pyc\n",
            "byte-compiling build/bdist.linux-x86_64/egg/prml/nn/nonlinear/__init__.py to __init__.cpython-36.pyc\n",
            "byte-compiling build/bdist.linux-x86_64/egg/prml/nn/nonlinear/tanh.py to tanh.cpython-36.pyc\n",
            "byte-compiling build/bdist.linux-x86_64/egg/prml/nn/nonlinear/sigmoid.py to sigmoid.cpython-36.pyc\n",
            "byte-compiling build/bdist.linux-x86_64/egg/prml/nn/nonlinear/softmax.py to softmax.cpython-36.pyc\n",
            "byte-compiling build/bdist.linux-x86_64/egg/prml/nn/normalization/__init__.py to __init__.cpython-36.pyc\n",
            "byte-compiling build/bdist.linux-x86_64/egg/prml/nn/normalization/batch_normalization.py to batch_normalization.cpython-36.pyc\n",
            "byte-compiling build/bdist.linux-x86_64/egg/prml/nn/optimizer/gradient.py to gradient.cpython-36.pyc\n",
            "byte-compiling build/bdist.linux-x86_64/egg/prml/nn/optimizer/__init__.py to __init__.cpython-36.pyc\n",
            "byte-compiling build/bdist.linux-x86_64/egg/prml/nn/optimizer/momentum.py to momentum.cpython-36.pyc\n",
            "byte-compiling build/bdist.linux-x86_64/egg/prml/nn/optimizer/optimizer.py to optimizer.cpython-36.pyc\n",
            "byte-compiling build/bdist.linux-x86_64/egg/prml/nn/optimizer/ada_delta.py to ada_delta.cpython-36.pyc\n",
            "byte-compiling build/bdist.linux-x86_64/egg/prml/nn/optimizer/ada_grad.py to ada_grad.cpython-36.pyc\n",
            "byte-compiling build/bdist.linux-x86_64/egg/prml/nn/optimizer/adam.py to adam.cpython-36.pyc\n",
            "byte-compiling build/bdist.linux-x86_64/egg/prml/nn/optimizer/rmsprop.py to rmsprop.cpython-36.pyc\n",
            "byte-compiling build/bdist.linux-x86_64/egg/prml/nn/random/random.py to random.cpython-36.pyc\n",
            "byte-compiling build/bdist.linux-x86_64/egg/prml/nn/random/__init__.py to __init__.cpython-36.pyc\n",
            "byte-compiling build/bdist.linux-x86_64/egg/prml/nn/random/dropout.py to dropout.cpython-36.pyc\n",
            "byte-compiling build/bdist.linux-x86_64/egg/prml/nn/random/uniform.py to uniform.cpython-36.pyc\n",
            "byte-compiling build/bdist.linux-x86_64/egg/prml/nn/random/normal.py to normal.cpython-36.pyc\n",
            "byte-compiling build/bdist.linux-x86_64/egg/prml/preprocess/label_transformer.py to label_transformer.cpython-36.pyc\n",
            "byte-compiling build/bdist.linux-x86_64/egg/prml/preprocess/__init__.py to __init__.cpython-36.pyc\n",
            "byte-compiling build/bdist.linux-x86_64/egg/prml/preprocess/gaussian.py to gaussian.cpython-36.pyc\n",
            "byte-compiling build/bdist.linux-x86_64/egg/prml/preprocess/sigmoidal.py to sigmoidal.cpython-36.pyc\n",
            "byte-compiling build/bdist.linux-x86_64/egg/prml/preprocess/polynomial.py to polynomial.cpython-36.pyc\n",
            "byte-compiling build/bdist.linux-x86_64/egg/prml/rv/categorical.py to categorical.cpython-36.pyc\n",
            "byte-compiling build/bdist.linux-x86_64/egg/prml/rv/variational_gaussian_mixture.py to variational_gaussian_mixture.cpython-36.pyc\n",
            "byte-compiling build/bdist.linux-x86_64/egg/prml/rv/gaussian.py to gaussian.cpython-36.pyc\n",
            "byte-compiling build/bdist.linux-x86_64/egg/prml/rv/multivariate_gaussian.py to multivariate_gaussian.cpython-36.pyc\n",
            "byte-compiling build/bdist.linux-x86_64/egg/prml/rv/__init__.py to __init__.cpython-36.pyc\n",
            "byte-compiling build/bdist.linux-x86_64/egg/prml/rv/bernoulli.py to bernoulli.cpython-36.pyc\n",
            "byte-compiling build/bdist.linux-x86_64/egg/prml/rv/uniform.py to uniform.cpython-36.pyc\n",
            "byte-compiling build/bdist.linux-x86_64/egg/prml/rv/bernoulli_mixture.py to bernoulli_mixture.cpython-36.pyc\n",
            "byte-compiling build/bdist.linux-x86_64/egg/prml/rv/multivariate_gaussian_mixture.py to multivariate_gaussian_mixture.cpython-36.pyc\n",
            "byte-compiling build/bdist.linux-x86_64/egg/prml/rv/gamma.py to gamma.cpython-36.pyc\n",
            "byte-compiling build/bdist.linux-x86_64/egg/prml/rv/students_t.py to students_t.cpython-36.pyc\n",
            "byte-compiling build/bdist.linux-x86_64/egg/prml/rv/rv.py to rv.cpython-36.pyc\n",
            "byte-compiling build/bdist.linux-x86_64/egg/prml/rv/dirichlet.py to dirichlet.cpython-36.pyc\n",
            "byte-compiling build/bdist.linux-x86_64/egg/prml/rv/beta.py to beta.cpython-36.pyc\n",
            "byte-compiling build/bdist.linux-x86_64/egg/prml/sampling/__init__.py to __init__.cpython-36.pyc\n",
            "byte-compiling build/bdist.linux-x86_64/egg/prml/sampling/metropolis.py to metropolis.cpython-36.pyc\n",
            "byte-compiling build/bdist.linux-x86_64/egg/prml/sampling/sir.py to sir.cpython-36.pyc\n",
            "byte-compiling build/bdist.linux-x86_64/egg/prml/sampling/rejection_sampling.py to rejection_sampling.cpython-36.pyc\n",
            "byte-compiling build/bdist.linux-x86_64/egg/prml/sampling/metropolis_hastings.py to metropolis_hastings.cpython-36.pyc\n",
            "creating build/bdist.linux-x86_64/egg/EGG-INFO\n",
            "copying prml.egg-info/PKG-INFO -> build/bdist.linux-x86_64/egg/EGG-INFO\n",
            "copying prml.egg-info/SOURCES.txt -> build/bdist.linux-x86_64/egg/EGG-INFO\n",
            "copying prml.egg-info/dependency_links.txt -> build/bdist.linux-x86_64/egg/EGG-INFO\n",
            "copying prml.egg-info/requires.txt -> build/bdist.linux-x86_64/egg/EGG-INFO\n",
            "copying prml.egg-info/top_level.txt -> build/bdist.linux-x86_64/egg/EGG-INFO\n",
            "zip_safe flag not set; analyzing archive contents...\n",
            "creating 'dist/prml-0.0.1-py3.6.egg' and adding 'build/bdist.linux-x86_64/egg' to it\n",
            "removing 'build/bdist.linux-x86_64/egg' (and everything under it)\n",
            "Processing prml-0.0.1-py3.6.egg\n",
            "Copying prml-0.0.1-py3.6.egg to /usr/local/lib/python3.6/dist-packages\n",
            "Adding prml 0.0.1 to easy-install.pth file\n",
            "\n",
            "Installed /usr/local/lib/python3.6/dist-packages/prml-0.0.1-py3.6.egg\n",
            "Processing dependencies for prml==0.0.1\n",
            "Searching for scipy==1.4.1\n",
            "Best match: scipy 1.4.1\n",
            "Adding scipy 1.4.1 to easy-install.pth file\n",
            "\n",
            "Using /usr/local/lib/python3.6/dist-packages\n",
            "Searching for numpy==1.19.5\n",
            "Best match: numpy 1.19.5\n",
            "Adding numpy 1.19.5 to easy-install.pth file\n",
            "Installing f2py script to /usr/local/bin\n",
            "Installing f2py3 script to /usr/local/bin\n",
            "Installing f2py3.6 script to /usr/local/bin\n",
            "\n",
            "Using /usr/local/lib/python3.6/dist-packages\n",
            "Finished processing dependencies for prml==0.0.1\n"
          ],
          "name": "stdout"
        }
      ]
    },
    {
      "cell_type": "code",
      "metadata": {
        "id": "iv9ADzLqiNsU",
        "colab": {
          "base_uri": "https://localhost:8080/"
        },
        "outputId": "6ccb2e76-d7de-4aac-d8da-379bdb5e7422"
      },
      "source": [
        "# 3. Add the project directory to the path\n",
        "%cd /content/drive/MyDrive/Colab\n",
        "import os, sys\n",
        "sys.path.append(os.getcwd())"
      ],
      "execution_count": null,
      "outputs": [
        {
          "output_type": "stream",
          "text": [
            "/content/drive/MyDrive/Colab\n"
          ],
          "name": "stdout"
        }
      ]
    },
    {
      "cell_type": "code",
      "metadata": {
        "id": "qwxjFZSR_vuX"
      },
      "source": [
        "# Import seaborn\n",
        "import seaborn as sns\n",
        "\n",
        "# Apply the default theme\n",
        "sns.set_theme()\n"
      ],
      "execution_count": null,
      "outputs": []
    },
    {
      "cell_type": "code",
      "metadata": {
        "id": "4P8J0QoxEvXg",
        "colab": {
          "base_uri": "https://localhost:8080/"
        },
        "outputId": "ffd0412e-bad0-4740-e24a-95d7436ec248"
      },
      "source": [
        "!pip install git+https://github.com/ctgk/PRML"
      ],
      "execution_count": null,
      "outputs": [
        {
          "output_type": "stream",
          "text": [
            "Collecting git+https://github.com/ctgk/PRML\n",
            "  Cloning https://github.com/ctgk/PRML to /tmp/pip-req-build-xyrg1w4q\n",
            "  Running command git clone -q https://github.com/ctgk/PRML /tmp/pip-req-build-xyrg1w4q\n",
            "Requirement already satisfied (use --upgrade to upgrade): prml==0.0.1 from git+https://github.com/ctgk/PRML in /usr/local/lib/python3.6/dist-packages/prml-0.0.1-py3.6.egg\n",
            "Requirement already satisfied: numpy in /usr/local/lib/python3.6/dist-packages (from prml==0.0.1) (1.19.5)\n",
            "Requirement already satisfied: scipy in /usr/local/lib/python3.6/dist-packages (from prml==0.0.1) (1.4.1)\n",
            "Building wheels for collected packages: prml\n",
            "  Building wheel for prml (setup.py) ... \u001b[?25l\u001b[?25hdone\n",
            "  Created wheel for prml: filename=prml-0.0.1-cp36-none-any.whl size=87145 sha256=12f80a845eb0ba03d187238649b5fe248b53cea4a42d238bc872371759870406\n",
            "  Stored in directory: /tmp/pip-ephem-wheel-cache-8uyqxg1w/wheels/11/69/4e/3418dcf2392cc74bb660b3a9e43597228f7c55ea162b8c3306\n",
            "Successfully built prml\n"
          ],
          "name": "stdout"
        }
      ]
    },
    {
      "cell_type": "code",
      "metadata": {
        "id": "pxBLdL3r6XmZ",
        "colab": {
          "base_uri": "https://localhost:8080/",
          "height": 363
        },
        "outputId": "abc17f43-9f6b-45b3-88dd-0e8799665c6d"
      },
      "source": [
        "import numpy as np\n",
        "import matplotlib.pyplot as plt\n",
        "%matplotlib inline\n",
        "\n",
        "from prml.preprocess import PolynomialFeature\n",
        "from prml.linear import (\n",
        "    LinearRegression,\n",
        "    RidgeRegression,\n",
        "    BayesianRegression\n",
        ")\n",
        "\n",
        "np.random.seed(1234)"
      ],
      "execution_count": null,
      "outputs": [
        {
          "output_type": "error",
          "ename": "ModuleNotFoundError",
          "evalue": "ignored",
          "traceback": [
            "\u001b[0;31m---------------------------------------------------------------------------\u001b[0m",
            "\u001b[0;31mModuleNotFoundError\u001b[0m                       Traceback (most recent call last)",
            "\u001b[0;32m<ipython-input-6-3c8024e1daff>\u001b[0m in \u001b[0;36m<module>\u001b[0;34m()\u001b[0m\n\u001b[1;32m      3\u001b[0m \u001b[0mget_ipython\u001b[0m\u001b[0;34m(\u001b[0m\u001b[0;34m)\u001b[0m\u001b[0;34m.\u001b[0m\u001b[0mmagic\u001b[0m\u001b[0;34m(\u001b[0m\u001b[0;34m'matplotlib inline'\u001b[0m\u001b[0;34m)\u001b[0m\u001b[0;34m\u001b[0m\u001b[0;34m\u001b[0m\u001b[0m\n\u001b[1;32m      4\u001b[0m \u001b[0;34m\u001b[0m\u001b[0m\n\u001b[0;32m----> 5\u001b[0;31m \u001b[0;32mfrom\u001b[0m \u001b[0mprml\u001b[0m\u001b[0;34m.\u001b[0m\u001b[0mpreprocess\u001b[0m \u001b[0;32mimport\u001b[0m \u001b[0mPolynomialFeature\u001b[0m\u001b[0;34m\u001b[0m\u001b[0;34m\u001b[0m\u001b[0m\n\u001b[0m\u001b[1;32m      6\u001b[0m from prml.linear import (\n\u001b[1;32m      7\u001b[0m     \u001b[0mLinearRegression\u001b[0m\u001b[0;34m,\u001b[0m\u001b[0;34m\u001b[0m\u001b[0;34m\u001b[0m\u001b[0m\n",
            "\u001b[0;31mModuleNotFoundError\u001b[0m: No module named 'prml'",
            "",
            "\u001b[0;31m---------------------------------------------------------------------------\u001b[0;32m\nNOTE: If your import is failing due to a missing package, you can\nmanually install dependencies using either !pip or !apt.\n\nTo view examples of installing some common dependencies, click the\n\"Open Examples\" button below.\n\u001b[0;31m---------------------------------------------------------------------------\u001b[0m\n"
          ]
        }
      ]
    },
    {
      "cell_type": "markdown",
      "metadata": {
        "id": "TWjYKLNc6Xmd"
      },
      "source": [
        "## 1.1. Example: Polynomial Curve Fitting"
      ]
    },
    {
      "cell_type": "markdown",
      "metadata": {
        "id": "6XPE-VC_-OYK"
      },
      "source": [
        "The cell below defines $p_{data}(y|x)$ and generates the $\\hat p_{data}(y|x)$"
      ]
    },
    {
      "cell_type": "code",
      "metadata": {
        "id": "Tj4RTV3X6Xmd",
        "colab": {
          "base_uri": "https://localhost:8080/",
          "height": 285
        },
        "outputId": "fca659c7-913b-440d-b219-d76c04ffbf86"
      },
      "source": [
        "def create_toy_data(func, sample_size, std):\n",
        "    x = np.linspace(0, 1, sample_size) # p(x)\n",
        "    y = func(x) + np.random.normal(scale=std, size=x.shape) \n",
        "    return x, y\n",
        "\n",
        "def func(x):\n",
        "    return np.sin(2 * np.pi * x)\n",
        "\n",
        "x_train, y_train = create_toy_data(func, 10, 0.25)\n",
        "x_test = np.linspace(0, 1, 100)\n",
        "y_test = func(x_test)\n",
        "\n",
        "plt.scatter(x_train, y_train, facecolor=\"none\", edgecolor=\"b\", s=50, label=\"training data\")\n",
        "plt.plot(x_test, y_test, c=\"g\", label=\"$\\sin(2\\pi x)$\")\n",
        "plt.legend()\n",
        "plt.xlabel('$x$')\n",
        "plt.ylabel('$y$')\n",
        "plt.show()"
      ],
      "execution_count": null,
      "outputs": [
        {
          "output_type": "display_data",
          "data": {
            "image/png": "[encoded data removed]",
            "text/plain": [
              "<Figure size 432x288 with 1 Axes>"
            ]
          },
          "metadata": {
            "tags": [],
            "needs_background": "light"
          }
        }
      ]
    },
    {
      "cell_type": "code",
      "metadata": {
        "scrolled": true,
        "id": "diJlsNGo6Xmg",
        "colab": {
          "base_uri": "https://localhost:8080/",
          "height": 513
        },
        "outputId": "28508954-c73d-4778-f62f-249b8d73757f"
      },
      "source": [
        "plt.subplots(figsize=(20, 10))\n",
        "for i, degree in enumerate([0, 1, 3, 9]):\n",
        "    plt.subplot(2, 2, i + 1)\n",
        "    feature = PolynomialFeature(degree)\n",
        "    X_train = feature.transform(x_train)\n",
        "    X_test = feature.transform(x_test)\n",
        "\n",
        "    model = LinearRegression()\n",
        "    model.fit(X_train, y_train)\n",
        "    y = model.predict(X_test)\n",
        "\n",
        "    plt.scatter(x_train, y_train, facecolor=\"none\", edgecolor=\"b\", s=50, label=\"training data\")\n",
        "    plt.plot(x_test, y_test, c=\"g\", label=\"$\\sin(2\\pi x)$\")\n",
        "    plt.plot(x_test, y, c=\"r\", label=\"hypothesis\")\n",
        "    plt.ylim(-1.5, 1.5)\n",
        "    plt.annotate(\"M={}\".format(degree), xy=(-0.15, 1))\n",
        "    plt.xlabel('$x$')\n",
        "    plt.ylabel('$y$') \n",
        "plt.legend(bbox_to_anchor=(1.05, 0.64), loc=2, borderaxespad=0.)\n",
        "plt.show()"
      ],
      "execution_count": null,
      "outputs": [
        {
          "output_type": "error",
          "ename": "NameError",
          "evalue": "ignored",
          "traceback": [
            "\u001b[0;31m---------------------------------------------------------------------------\u001b[0m",
            "\u001b[0;31mNameError\u001b[0m                                 Traceback (most recent call last)",
            "\u001b[0;32m<ipython-input-8-732f04c41d10>\u001b[0m in \u001b[0;36m<module>\u001b[0;34m()\u001b[0m\n\u001b[1;32m      2\u001b[0m \u001b[0;32mfor\u001b[0m \u001b[0mi\u001b[0m\u001b[0;34m,\u001b[0m \u001b[0mdegree\u001b[0m \u001b[0;32min\u001b[0m \u001b[0menumerate\u001b[0m\u001b[0;34m(\u001b[0m\u001b[0;34m[\u001b[0m\u001b[0;36m0\u001b[0m\u001b[0;34m,\u001b[0m \u001b[0;36m1\u001b[0m\u001b[0;34m,\u001b[0m \u001b[0;36m3\u001b[0m\u001b[0;34m,\u001b[0m \u001b[0;36m9\u001b[0m\u001b[0;34m]\u001b[0m\u001b[0;34m)\u001b[0m\u001b[0;34m:\u001b[0m\u001b[0;34m\u001b[0m\u001b[0;34m\u001b[0m\u001b[0m\n\u001b[1;32m      3\u001b[0m     \u001b[0mplt\u001b[0m\u001b[0;34m.\u001b[0m\u001b[0msubplot\u001b[0m\u001b[0;34m(\u001b[0m\u001b[0;36m2\u001b[0m\u001b[0;34m,\u001b[0m \u001b[0;36m2\u001b[0m\u001b[0;34m,\u001b[0m \u001b[0mi\u001b[0m \u001b[0;34m+\u001b[0m \u001b[0;36m1\u001b[0m\u001b[0;34m)\u001b[0m\u001b[0;34m\u001b[0m\u001b[0;34m\u001b[0m\u001b[0m\n\u001b[0;32m----> 4\u001b[0;31m     \u001b[0mfeature\u001b[0m \u001b[0;34m=\u001b[0m \u001b[0mPolynomialFeature\u001b[0m\u001b[0;34m(\u001b[0m\u001b[0mdegree\u001b[0m\u001b[0;34m)\u001b[0m\u001b[0;34m\u001b[0m\u001b[0;34m\u001b[0m\u001b[0m\n\u001b[0m\u001b[1;32m      5\u001b[0m     \u001b[0mX_train\u001b[0m \u001b[0;34m=\u001b[0m \u001b[0mfeature\u001b[0m\u001b[0;34m.\u001b[0m\u001b[0mtransform\u001b[0m\u001b[0;34m(\u001b[0m\u001b[0mx_train\u001b[0m\u001b[0;34m)\u001b[0m\u001b[0;34m\u001b[0m\u001b[0;34m\u001b[0m\u001b[0m\n\u001b[1;32m      6\u001b[0m     \u001b[0mX_test\u001b[0m \u001b[0;34m=\u001b[0m \u001b[0mfeature\u001b[0m\u001b[0;34m.\u001b[0m\u001b[0mtransform\u001b[0m\u001b[0;34m(\u001b[0m\u001b[0mx_test\u001b[0m\u001b[0;34m)\u001b[0m\u001b[0;34m\u001b[0m\u001b[0;34m\u001b[0m\u001b[0m\n",
            "\u001b[0;31mNameError\u001b[0m: name 'PolynomialFeature' is not defined"
          ]
        },
        {
          "output_type": "display_data",
          "data": {
            "image/png": "[encoded data removed]",
            "text/plain": [
              "<Figure size 1440x720 with 1 Axes>"
            ]
          },
          "metadata": {
            "tags": [],
            "needs_background": "light"
          }
        }
      ]
    },
    {
      "cell_type": "code",
      "metadata": {
        "id": "nfpg434z6Xmj",
        "colab": {
          "base_uri": "https://localhost:8080/",
          "height": 229
        },
        "outputId": "649becbf-9db8-404e-a89d-2bef8bcfe50a"
      },
      "source": [
        "def rmse(a, b):\n",
        "    return np.sqrt(np.mean(np.square(a - b)))\n",
        "\n",
        "training_errors = []\n",
        "test_errors = []\n",
        "\n",
        "for i in range(10):\n",
        "    feature = PolynomialFeature(i)\n",
        "    X_train = feature.transform(x_train)\n",
        "    X_test = feature.transform(x_test)\n",
        "\n",
        "    model = LinearRegression()\n",
        "    model.fit(X_train, y_train)\n",
        "    y = model.predict(X_test)\n",
        "    training_errors.append(rmse(model.predict(X_train), y_train))\n",
        "    test_errors.append(rmse(model.predict(X_test), y_test + np.random.normal(scale=0.25, size=len(y_test))))\n",
        "\n",
        "plt.plot(training_errors, 'o-', mfc=\"none\", mec=\"b\", ms=10, c=\"b\", label=\"Training\")\n",
        "plt.plot(test_errors, 'o-', mfc=\"none\", mec=\"r\", ms=10, c=\"r\", label=\"Test\")\n",
        "plt.legend()\n",
        "plt.xlabel(\"model capacity (degree)\")\n",
        "plt.ylabel(\"RMSE\")\n",
        "plt.show()"
      ],
      "execution_count": null,
      "outputs": [
        {
          "output_type": "error",
          "ename": "NameError",
          "evalue": "ignored",
          "traceback": [
            "\u001b[0;31m---------------------------------------------------------------------------\u001b[0m",
            "\u001b[0;31mNameError\u001b[0m                                 Traceback (most recent call last)",
            "\u001b[0;32m<ipython-input-9-b852a06da07b>\u001b[0m in \u001b[0;36m<module>\u001b[0;34m()\u001b[0m\n\u001b[1;32m      6\u001b[0m \u001b[0;34m\u001b[0m\u001b[0m\n\u001b[1;32m      7\u001b[0m \u001b[0;32mfor\u001b[0m \u001b[0mi\u001b[0m \u001b[0;32min\u001b[0m \u001b[0mrange\u001b[0m\u001b[0;34m(\u001b[0m\u001b[0;36m10\u001b[0m\u001b[0;34m)\u001b[0m\u001b[0;34m:\u001b[0m\u001b[0;34m\u001b[0m\u001b[0;34m\u001b[0m\u001b[0m\n\u001b[0;32m----> 8\u001b[0;31m     \u001b[0mfeature\u001b[0m \u001b[0;34m=\u001b[0m \u001b[0mPolynomialFeature\u001b[0m\u001b[0;34m(\u001b[0m\u001b[0mi\u001b[0m\u001b[0;34m)\u001b[0m\u001b[0;34m\u001b[0m\u001b[0;34m\u001b[0m\u001b[0m\n\u001b[0m\u001b[1;32m      9\u001b[0m     \u001b[0mX_train\u001b[0m \u001b[0;34m=\u001b[0m \u001b[0mfeature\u001b[0m\u001b[0;34m.\u001b[0m\u001b[0mtransform\u001b[0m\u001b[0;34m(\u001b[0m\u001b[0mx_train\u001b[0m\u001b[0;34m)\u001b[0m\u001b[0;34m\u001b[0m\u001b[0;34m\u001b[0m\u001b[0m\n\u001b[1;32m     10\u001b[0m     \u001b[0mX_test\u001b[0m \u001b[0;34m=\u001b[0m \u001b[0mfeature\u001b[0m\u001b[0;34m.\u001b[0m\u001b[0mtransform\u001b[0m\u001b[0;34m(\u001b[0m\u001b[0mx_test\u001b[0m\u001b[0;34m)\u001b[0m\u001b[0;34m\u001b[0m\u001b[0;34m\u001b[0m\u001b[0m\n",
            "\u001b[0;31mNameError\u001b[0m: name 'PolynomialFeature' is not defined"
          ]
        }
      ]
    },
    {
      "cell_type": "markdown",
      "metadata": {
        "id": "PTOLlihm6Xml"
      },
      "source": [
        "#### Regularization"
      ]
    },
    {
      "cell_type": "code",
      "metadata": {
        "id": "18aoGaUg6Xml",
        "colab": {
          "base_uri": "https://localhost:8080/",
          "height": 229
        },
        "outputId": "a891a7c5-0f4f-45e3-d013-da790acea3a6"
      },
      "source": [
        "feature = PolynomialFeature(9)\n",
        "X_train = feature.transform(x_train)\n",
        "X_test = feature.transform(x_test)\n",
        "\n",
        "model = RidgeRegression(alpha=1e-3)\n",
        "model.fit(X_train, y_train)\n",
        "y = model.predict(X_test)\n",
        "\n",
        "#y = model.predict(X_test)\n",
        "plt.scatter(x_train, y_train, facecolor=\"none\", edgecolor=\"b\", s=50, label=\"training data\")\n",
        "plt.plot(x_test, y_test, c=\"g\", label=\"$\\sin(2\\pi x)$\")\n",
        "plt.plot(x_test, y, c=\"r\", label=\"hypothesis\")\n",
        "plt.ylim(-1.5, 1.5)\n",
        "plt.legend()\n",
        "plt.annotate(\"M=9\", xy=(-0.15, 1))\n",
        "plt.xlabel('$x$')\n",
        "plt.ylabel('$y$') \n",
        "plt.show()"
      ],
      "execution_count": null,
      "outputs": [
        {
          "output_type": "error",
          "ename": "NameError",
          "evalue": "ignored",
          "traceback": [
            "\u001b[0;31m---------------------------------------------------------------------------\u001b[0m",
            "\u001b[0;31mNameError\u001b[0m                                 Traceback (most recent call last)",
            "\u001b[0;32m<ipython-input-10-10c45f48b077>\u001b[0m in \u001b[0;36m<module>\u001b[0;34m()\u001b[0m\n\u001b[0;32m----> 1\u001b[0;31m \u001b[0mfeature\u001b[0m \u001b[0;34m=\u001b[0m \u001b[0mPolynomialFeature\u001b[0m\u001b[0;34m(\u001b[0m\u001b[0;36m9\u001b[0m\u001b[0;34m)\u001b[0m\u001b[0;34m\u001b[0m\u001b[0;34m\u001b[0m\u001b[0m\n\u001b[0m\u001b[1;32m      2\u001b[0m \u001b[0mX_train\u001b[0m \u001b[0;34m=\u001b[0m \u001b[0mfeature\u001b[0m\u001b[0;34m.\u001b[0m\u001b[0mtransform\u001b[0m\u001b[0;34m(\u001b[0m\u001b[0mx_train\u001b[0m\u001b[0;34m)\u001b[0m\u001b[0;34m\u001b[0m\u001b[0;34m\u001b[0m\u001b[0m\n\u001b[1;32m      3\u001b[0m \u001b[0mX_test\u001b[0m \u001b[0;34m=\u001b[0m \u001b[0mfeature\u001b[0m\u001b[0;34m.\u001b[0m\u001b[0mtransform\u001b[0m\u001b[0;34m(\u001b[0m\u001b[0mx_test\u001b[0m\u001b[0;34m)\u001b[0m\u001b[0;34m\u001b[0m\u001b[0;34m\u001b[0m\u001b[0m\n\u001b[1;32m      4\u001b[0m \u001b[0;34m\u001b[0m\u001b[0m\n\u001b[1;32m      5\u001b[0m \u001b[0mmodel\u001b[0m \u001b[0;34m=\u001b[0m \u001b[0mRidgeRegression\u001b[0m\u001b[0;34m(\u001b[0m\u001b[0malpha\u001b[0m\u001b[0;34m=\u001b[0m\u001b[0;36m1e-3\u001b[0m\u001b[0;34m)\u001b[0m\u001b[0;34m\u001b[0m\u001b[0;34m\u001b[0m\u001b[0m\n",
            "\u001b[0;31mNameError\u001b[0m: name 'PolynomialFeature' is not defined"
          ]
        }
      ]
    },
    {
      "cell_type": "markdown",
      "metadata": {
        "id": "i2V2kUdqJWWD"
      },
      "source": [
        "The data here shows the hypothesis data being compared against the training data as well as a graph of sin(2* pi *x). It shows that the sin function is a close fit to the hypothesis data collected. "
      ]
    },
    {
      "cell_type": "markdown",
      "metadata": {
        "id": "kfmJy1-96Xmo"
      },
      "source": [
        "### 1.2.6 Bayesian curve fitting"
      ]
    },
    {
      "cell_type": "code",
      "metadata": {
        "id": "GFCXxwiz6Xmo",
        "colab": {
          "base_uri": "https://localhost:8080/",
          "height": 246
        },
        "outputId": "e3f39221-49ad-4056-9f4e-83c0eb73784d"
      },
      "source": [
        "model = BayesianRegression(alpha=2e-3, beta=2)\n",
        "model.fit(X_train, y_train)\n",
        "\n",
        "y, y_err = model.predict(X_test, return_std=True)\n",
        "plt.scatter(x_train, y_train, facecolor=\"none\", edgecolor=\"b\", s=50, label=\"training data\")\n",
        "plt.plot(x_test, y_test, c=\"g\", label=\"$\\sin(2\\pi x)$\")\n",
        "plt.plot(x_test, y, c=\"r\", label=\"mean\")\n",
        "plt.fill_between(x_test, y - y_err, y + y_err, color=\"pink\", label=\"std.\", alpha=0.5)\n",
        "plt.xlim(-0.1, 1.1)\n",
        "plt.ylim(-1.5, 1.5)\n",
        "plt.annotate(\"M=9\", xy=(0.8, 1))\n",
        "plt.xlabel('$x$')\n",
        "plt.ylabel('$y$') \n",
        "plt.legend(bbox_to_anchor=(1.05, 1.), loc=2, borderaxespad=0.)\n",
        "plt.show()"
      ],
      "execution_count": null,
      "outputs": [
        {
          "output_type": "error",
          "ename": "NameError",
          "evalue": "ignored",
          "traceback": [
            "\u001b[0;31m---------------------------------------------------------------------------\u001b[0m",
            "\u001b[0;31mNameError\u001b[0m                                 Traceback (most recent call last)",
            "\u001b[0;32m<ipython-input-11-f6a7f89366f8>\u001b[0m in \u001b[0;36m<module>\u001b[0;34m()\u001b[0m\n\u001b[0;32m----> 1\u001b[0;31m \u001b[0mmodel\u001b[0m \u001b[0;34m=\u001b[0m \u001b[0mBayesianRegression\u001b[0m\u001b[0;34m(\u001b[0m\u001b[0malpha\u001b[0m\u001b[0;34m=\u001b[0m\u001b[0;36m2e-3\u001b[0m\u001b[0;34m,\u001b[0m \u001b[0mbeta\u001b[0m\u001b[0;34m=\u001b[0m\u001b[0;36m2\u001b[0m\u001b[0;34m)\u001b[0m\u001b[0;34m\u001b[0m\u001b[0;34m\u001b[0m\u001b[0m\n\u001b[0m\u001b[1;32m      2\u001b[0m \u001b[0mmodel\u001b[0m\u001b[0;34m.\u001b[0m\u001b[0mfit\u001b[0m\u001b[0;34m(\u001b[0m\u001b[0mX_train\u001b[0m\u001b[0;34m,\u001b[0m \u001b[0my_train\u001b[0m\u001b[0;34m)\u001b[0m\u001b[0;34m\u001b[0m\u001b[0;34m\u001b[0m\u001b[0m\n\u001b[1;32m      3\u001b[0m \u001b[0;34m\u001b[0m\u001b[0m\n\u001b[1;32m      4\u001b[0m \u001b[0my\u001b[0m\u001b[0;34m,\u001b[0m \u001b[0my_err\u001b[0m \u001b[0;34m=\u001b[0m \u001b[0mmodel\u001b[0m\u001b[0;34m.\u001b[0m\u001b[0mpredict\u001b[0m\u001b[0;34m(\u001b[0m\u001b[0mX_test\u001b[0m\u001b[0;34m,\u001b[0m \u001b[0mreturn_std\u001b[0m\u001b[0;34m=\u001b[0m\u001b[0;32mTrue\u001b[0m\u001b[0;34m)\u001b[0m\u001b[0;34m\u001b[0m\u001b[0;34m\u001b[0m\u001b[0m\n\u001b[1;32m      5\u001b[0m \u001b[0mplt\u001b[0m\u001b[0;34m.\u001b[0m\u001b[0mscatter\u001b[0m\u001b[0;34m(\u001b[0m\u001b[0mx_train\u001b[0m\u001b[0;34m,\u001b[0m \u001b[0my_train\u001b[0m\u001b[0;34m,\u001b[0m \u001b[0mfacecolor\u001b[0m\u001b[0;34m=\u001b[0m\u001b[0;34m\"none\"\u001b[0m\u001b[0;34m,\u001b[0m \u001b[0medgecolor\u001b[0m\u001b[0;34m=\u001b[0m\u001b[0;34m\"b\"\u001b[0m\u001b[0;34m,\u001b[0m \u001b[0ms\u001b[0m\u001b[0;34m=\u001b[0m\u001b[0;36m50\u001b[0m\u001b[0;34m,\u001b[0m \u001b[0mlabel\u001b[0m\u001b[0;34m=\u001b[0m\u001b[0;34m\"training data\"\u001b[0m\u001b[0;34m)\u001b[0m\u001b[0;34m\u001b[0m\u001b[0;34m\u001b[0m\u001b[0m\n",
            "\u001b[0;31mNameError\u001b[0m: name 'BayesianRegression' is not defined"
          ]
        }
      ]
    },
    {
      "cell_type": "markdown",
      "metadata": {
        "id": "7NT9eHCTGaMc"
      },
      "source": [
        "The loss function is called Root Mean Sqaured because we take the Mean Squared Error, but because the order of this value can be greater than that of the data. In order to avoid this we take the root of that value and reduce the order of the loss function, but keep the same value. "
      ]
    },
    {
      "cell_type": "markdown",
      "metadata": {
        "id": "o-8MDnD7ISNg"
      },
      "source": [
        "The behavior of the test error changes when M is increaded from 3 to 9 by becoming more overfit to the model. This is because as the complexity increases, so does the accuracy, so therefore increasing it this significantly will make the data overfit the model. "
      ]
    }
  ]
}